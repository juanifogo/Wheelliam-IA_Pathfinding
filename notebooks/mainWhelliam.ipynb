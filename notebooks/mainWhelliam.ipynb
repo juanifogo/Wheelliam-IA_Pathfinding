{
  "cells": [
    {
      "cell_type": "code",
      "execution_count": 9,
      "metadata": {
        "id": "V8QhtjgBzGO5"
      },
      "outputs": [],
      "source": [
        "#from detector import *\n",
        "#from Pathfinding import *\n",
        "#from car_commands import *"
      ]
    },
    {
      "cell_type": "code",
      "execution_count": null,
      "metadata": {
        "id": "sI4aq80LzTb2"
      },
      "outputs": [],
      "source": [
        "import json\n",
        "\n",
        "while True:\n",
        "  File = open(\"Path\", \"r\")\n",
        "  File = json.load(File.read())\n",
        "  if not File['START_POS'] == None:\n",
        "    START_POS = File['START_POS']\n",
        "    END_POS = File['END_POS']\n",
        "    break\n",
        "    \n",
        "CURR_POS = START_POS"
      ]
    },
    {
      "cell_type": "code",
      "execution_count": null,
      "metadata": {
        "id": "5pWYsuxItGaK"
      },
      "outputs": [],
      "source": [
        "while not CURR_POS == END_POS:\n",
        "  dirs = pathfinding(CURR_POS, END_POS)\n",
        "  res = car_move(dirs)\n",
        "  if(res == True)\n",
        "    CURR_POS = END_POS\n",
        "  else:\n",
        "    CURR_POS = res\n",
        "    im = cam.Capture\n",
        "    det = detector(im)\n",
        "    if det:\n",
        "      bocina()\n",
        "    else:\n",
        "      dodge()\n"
      ]
    },
    {
      "cell_type": "code",
      "execution_count": null,
      "metadata": {
        "id": "kxE0eQJJucEU"
      },
      "outputs": [],
      "source": []
    }
  ],
  "metadata": {
    "colab": {
      "collapsed_sections": [],
      "provenance": []
    },
    "kernelspec": {
      "display_name": "Python 3.10.0 64-bit",
      "language": "python",
      "name": "python3"
    },
    "language_info": {
      "codemirror_mode": {
        "name": "ipython",
        "version": 3
      },
      "file_extension": ".py",
      "mimetype": "text/x-python",
      "name": "python",
      "nbconvert_exporter": "python",
      "pygments_lexer": "ipython3",
      "version": "3.10.0"
    },
    "vscode": {
      "interpreter": {
        "hash": "369f2c481f4da34e4445cda3fffd2e751bd1c4d706f27375911949ba6bb62e1c"
      }
    }
  },
  "nbformat": 4,
  "nbformat_minor": 0
}
